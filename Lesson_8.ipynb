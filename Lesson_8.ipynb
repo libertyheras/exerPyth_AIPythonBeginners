{
  "cells": [
    {
      "cell_type": "markdown",
      "metadata": {
        "id": "view-in-github",
        "colab_type": "text"
      },
      "source": [
        "<a href=\"https://colab.research.google.com/github/libertyheras/exerPyth_AIPythonBeginners/blob/main/Lesson_8.ipynb\" target=\"_parent\"><img src=\"https://colab.research.google.com/assets/colab-badge.svg\" alt=\"Open In Colab\"/></a>"
      ]
    },
    {
      "cell_type": "markdown",
      "id": "817221c9",
      "metadata": {
        "id": "817221c9"
      },
      "source": [
        "# L8 : Variables"
      ]
    },
    {
      "cell_type": "markdown",
      "id": "1512b57b",
      "metadata": {
        "id": "1512b57b"
      },
      "source": [
        "In computer programming, <b>variables</b> are used to store, process, and manipulate data. So, let's say you wanted to store `28` in the variable `age`, this is what you would do:"
      ]
    },
    {
      "cell_type": "code",
      "execution_count": null,
      "id": "9ae82ae7",
      "metadata": {
        "height": 30,
        "id": "9ae82ae7"
      },
      "outputs": [],
      "source": [
        "age = 28"
      ]
    },
    {
      "cell_type": "markdown",
      "id": "e0d89b8d",
      "metadata": {
        "id": "e0d89b8d"
      },
      "source": [
        "So if you used `print()` with `age` as an argument, you would get the value that you assigned to that variable."
      ]
    },
    {
      "cell_type": "code",
      "execution_count": null,
      "id": "80b5943a",
      "metadata": {
        "height": 30,
        "id": "80b5943a",
        "outputId": "19927988-0574-4163-873d-807b33ba4755"
      },
      "outputs": [
        {
          "name": "stdout",
          "output_type": "stream",
          "text": [
            "28\n"
          ]
        }
      ],
      "source": [
        "print(age)"
      ]
    },
    {
      "cell_type": "markdown",
      "id": "8ddf96c1",
      "metadata": {
        "id": "8ddf96c1"
      },
      "source": [
        "With `age = 28` you are telling Python to create a variable named `age` and use it to store the value `28`. However, you can change the value assigned to any variable you previously created. For instance, you can assign a value of `5` to `age` using the following code:"
      ]
    },
    {
      "cell_type": "code",
      "execution_count": null,
      "id": "0cc2c56f",
      "metadata": {
        "height": 30,
        "id": "0cc2c56f"
      },
      "outputs": [],
      "source": [
        "age = 5"
      ]
    },
    {
      "cell_type": "markdown",
      "id": "448a0658",
      "metadata": {
        "id": "448a0658"
      },
      "source": [
        "So if you display `age`, you will get `5` instead of `28`."
      ]
    },
    {
      "cell_type": "code",
      "execution_count": null,
      "id": "b594137a",
      "metadata": {
        "height": 30,
        "id": "b594137a",
        "outputId": "001fe244-5054-4e5a-9bdf-a128efba7910"
      },
      "outputs": [
        {
          "name": "stdout",
          "output_type": "stream",
          "text": [
            "28\n"
          ]
        }
      ],
      "source": [
        "print(age)"
      ]
    },
    {
      "cell_type": "markdown",
      "id": "764df696",
      "metadata": {
        "id": "764df696"
      },
      "source": [
        "## Variables store numbers, strings and other type of data"
      ]
    },
    {
      "cell_type": "markdown",
      "id": "3b4f1b37",
      "metadata": {
        "id": "3b4f1b37"
      },
      "source": [
        "Variables can be used to store floating point numbers, integers, strings, and other types of data. For instance, you can create a variable `name` and assign it the string `\"Otto\"`, or a variable `gnome_height` and assign it the floating point number `12.7`."
      ]
    },
    {
      "cell_type": "code",
      "execution_count": null,
      "id": "d2e765a1",
      "metadata": {
        "height": 47,
        "id": "d2e765a1"
      },
      "outputs": [],
      "source": [
        "name = \"Otto\"\n",
        "gnome_height = 12.7"
      ]
    },
    {
      "cell_type": "markdown",
      "id": "e6595034",
      "metadata": {
        "id": "e6595034"
      },
      "source": [
        "You can use variables within f-strings to make your output more readable. For example, you can print the value assigned to `age` along with the string `\"Age: \"` so that anyone reading the display will understand what the value represents.\n",
        "\n",
        "Here’s how you can do it:"
      ]
    },
    {
      "cell_type": "code",
      "execution_count": null,
      "id": "37d2833c",
      "metadata": {
        "height": 30,
        "id": "37d2833c",
        "outputId": "071c4c7b-5b12-4873-cf77-8c8419d1ebdc"
      },
      "outputs": [
        {
          "name": "stdout",
          "output_type": "stream",
          "text": [
            "Age: 28\n"
          ]
        }
      ],
      "source": [
        "print(f\"Age: {age}\")"
      ]
    },
    {
      "cell_type": "markdown",
      "id": "d156652d",
      "metadata": {
        "id": "d156652d"
      },
      "source": [
        "As another example, let's use f-strings to display the values assigned to `name` and `gnome_height`."
      ]
    },
    {
      "cell_type": "code",
      "execution_count": null,
      "id": "f4dd9caa",
      "metadata": {
        "height": 47,
        "id": "f4dd9caa",
        "outputId": "41252b62-eb17-4df6-f95e-364313682f0b"
      },
      "outputs": [
        {
          "name": "stdout",
          "output_type": "stream",
          "text": [
            "Name: Otto\n",
            "Gnome height: 12.7\n"
          ]
        }
      ],
      "source": [
        "print(f\"Name: {name}\")\n",
        "print(f\"Gnome height: {gnome_height}\")"
      ]
    },
    {
      "cell_type": "markdown",
      "id": "f86ccabc",
      "metadata": {
        "id": "f86ccabc"
      },
      "source": [
        "<b>Important:</b> Variables are case-sensitive, so `Gnome_height` and `gnome_height` are not the same. To see this, you can run the next cell where you will get an error message."
      ]
    },
    {
      "cell_type": "code",
      "execution_count": null,
      "id": "c43043e4",
      "metadata": {
        "height": 30,
        "id": "c43043e4",
        "outputId": "77a7f39b-8e49-4e63-8978-68d5e7c0f30d"
      },
      "outputs": [
        {
          "ename": "NameError",
          "evalue": "name 'Gnome_height' is not defined",
          "output_type": "error",
          "traceback": [
            "\u001b[0;31m---------------------------------------------------------------------------\u001b[0m",
            "\u001b[0;31mNameError\u001b[0m                                 Traceback (most recent call last)",
            "Cell \u001b[0;32mIn[8], line 1\u001b[0m\n\u001b[0;32m----> 1\u001b[0m \u001b[38;5;28mprint\u001b[39m(\u001b[38;5;124mf\u001b[39m\u001b[38;5;124m\"\u001b[39m\u001b[38;5;124mGnome height: \u001b[39m\u001b[38;5;132;01m{\u001b[39;00mGnome_height\u001b[38;5;132;01m}\u001b[39;00m\u001b[38;5;124m\"\u001b[39m)\n",
            "\u001b[0;31mNameError\u001b[0m: name 'Gnome_height' is not defined"
          ]
        }
      ],
      "source": [
        "print(f\"Gnome height: {Gnome_height}\")"
      ]
    },
    {
      "cell_type": "markdown",
      "id": "99c43159-f5b4-4ab5-b9d4-b142979cb172",
      "metadata": {
        "id": "99c43159-f5b4-4ab5-b9d4-b142979cb172"
      },
      "source": [
        "## Variables help you store values that constantly change"
      ]
    },
    {
      "cell_type": "markdown",
      "id": "9154a6a6-ab67-4d96-85fc-5bbfbea65e11",
      "metadata": {
        "id": "9154a6a6-ab67-4d96-85fc-5bbfbea65e11"
      },
      "source": [
        "Take a game where the score starts at zero. In the next cell, you create a variable `score`, assign it the value of `0`, and display the current score."
      ]
    },
    {
      "cell_type": "code",
      "execution_count": null,
      "id": "5a47354d",
      "metadata": {
        "height": 47,
        "id": "5a47354d",
        "outputId": "6f5a2461-0bd7-402a-ad99-282fae469b7b"
      },
      "outputs": [
        {
          "name": "stdout",
          "output_type": "stream",
          "text": [
            "0\n"
          ]
        }
      ],
      "source": [
        "score = 0 # now score is 0\n",
        "print(score)"
      ]
    },
    {
      "cell_type": "markdown",
      "id": "b59c99bb-d58a-4a8e-9f1b-fd2010cf7e12",
      "metadata": {
        "id": "b59c99bb-d58a-4a8e-9f1b-fd2010cf7e12"
      },
      "source": [
        "When the score increases by 50 points, you can update the variable by using its previous value and adding `50`."
      ]
    },
    {
      "cell_type": "code",
      "execution_count": null,
      "id": "019ca96e",
      "metadata": {
        "height": 47,
        "id": "019ca96e",
        "outputId": "a7462cf7-2ce7-4bf6-f40a-24aa317f5cce"
      },
      "outputs": [
        {
          "name": "stdout",
          "output_type": "stream",
          "text": [
            "50\n"
          ]
        }
      ],
      "source": [
        "score = score + 50 # now score is 0 + 50 which is 50\n",
        "print(score)"
      ]
    },
    {
      "cell_type": "markdown",
      "id": "b6d6a85b-c210-4bd3-8cb3-7013775fcec4",
      "metadata": {
        "id": "b6d6a85b-c210-4bd3-8cb3-7013775fcec4"
      },
      "source": [
        "In a similar way, when the score increases by 100 points, the variable `score` can be updated by adding `100` to the previous value stored in `score`."
      ]
    },
    {
      "cell_type": "code",
      "execution_count": null,
      "id": "a7b08d88",
      "metadata": {
        "height": 47,
        "id": "a7b08d88",
        "outputId": "6e2433fa-0314-4048-e60c-dfe6685dd931"
      },
      "outputs": [
        {
          "name": "stdout",
          "output_type": "stream",
          "text": [
            "150\n"
          ]
        }
      ],
      "source": [
        "score = score + 100 # now score is 100 + 50 which is 150\n",
        "print(score)"
      ]
    },
    {
      "cell_type": "markdown",
      "id": "cbd2c6e3-edd1-42fc-9f3b-b4b1eed37412",
      "metadata": {
        "id": "cbd2c6e3-edd1-42fc-9f3b-b4b1eed37412"
      },
      "source": [
        "And, after scoring an extra 300 points, the variable `score` is updated by adding `300` to the previous value stored in `score`."
      ]
    },
    {
      "cell_type": "code",
      "execution_count": null,
      "id": "101602ad",
      "metadata": {
        "height": 47,
        "id": "101602ad",
        "outputId": "6e27372f-8a86-4f61-b7d2-ca8a3a4de01a"
      },
      "outputs": [
        {
          "name": "stdout",
          "output_type": "stream",
          "text": [
            "450\n"
          ]
        }
      ],
      "source": [
        "score = score + 300 # now score is 150 + 300 which is 450\n",
        "print(score)"
      ]
    },
    {
      "cell_type": "markdown",
      "id": "50b3f514-dd75-475c-819f-ad55e93f2728",
      "metadata": {
        "id": "50b3f514-dd75-475c-819f-ad55e93f2728"
      },
      "source": [
        "So at the end, the variable `score` stores the most updated score value.\n",
        "\n",
        "You can print the final score using an f-string as shown in the cell below:"
      ]
    },
    {
      "cell_type": "code",
      "execution_count": null,
      "id": "4a0cc976",
      "metadata": {
        "height": 30,
        "id": "4a0cc976",
        "outputId": "38eac367-e27f-446b-a5d3-74426226388e"
      },
      "outputs": [
        {
          "name": "stdout",
          "output_type": "stream",
          "text": [
            "Your final score was: 450\n"
          ]
        }
      ],
      "source": [
        "print(f\"Your final score was: {score}\") # prints 450"
      ]
    },
    {
      "cell_type": "markdown",
      "id": "8c98ef76-dbc5-46e9-bfea-44e1eead9e19",
      "metadata": {
        "id": "8c98ef76-dbc5-46e9-bfea-44e1eead9e19"
      },
      "source": [
        "## Variable names restrictions"
      ]
    },
    {
      "cell_type": "markdown",
      "id": "a521e742-511b-4d4d-b07c-248ec3d5e43d",
      "metadata": {
        "id": "a521e742-511b-4d4d-b07c-248ec3d5e43d"
      },
      "source": [
        "To demonstrate an important fact about variable names in Python, try to run the code below."
      ]
    },
    {
      "cell_type": "code",
      "execution_count": null,
      "id": "42e3bcd2",
      "metadata": {
        "height": 30,
        "id": "42e3bcd2"
      },
      "outputs": [],
      "source": [
        "my_score = 450"
      ]
    },
    {
      "cell_type": "markdown",
      "id": "a4b2761a-e06d-46a3-a68f-1b6017a81881",
      "metadata": {
        "id": "a4b2761a-e06d-46a3-a68f-1b6017a81881"
      },
      "source": [
        "Now, ask the chatbot why that code didn't work. You can use the prompt suggested here.\n",
        "\n",
        "<p style=\"background-color:#F5C780; padding:15px\"> 🤖 <b>Use the Chatbot</b>: Why doesn't this code work? my score = 450\n",
        "</p>"
      ]
    },
    {
      "cell_type": "markdown",
      "id": "5aece0d4",
      "metadata": {
        "id": "5aece0d4"
      },
      "source": [
        "## Variables allow you to code efficiently!"
      ]
    },
    {
      "cell_type": "markdown",
      "id": "a5e87451",
      "metadata": {
        "id": "a5e87451"
      },
      "source": [
        "Recall the dog age example that you saw in previous lessons. Assuming that Otto is 49 years old, you can display his dog age by using `print(49 / 7)`."
      ]
    },
    {
      "cell_type": "code",
      "execution_count": null,
      "id": "1643e928",
      "metadata": {
        "height": 30,
        "id": "1643e928",
        "outputId": "256e1042-d4ce-4b6d-fd8f-3cd38af7820f"
      },
      "outputs": [
        {
          "name": "stdout",
          "output_type": "stream",
          "text": [
            "7.0\n"
          ]
        }
      ],
      "source": [
        "print(49 / 7)"
      ]
    },
    {
      "cell_type": "markdown",
      "id": "e3de9f60",
      "metadata": {
        "id": "e3de9f60"
      },
      "source": [
        "Using f-strings so that it is clear what you are displaying, you would use code similar to the one in the cell below."
      ]
    },
    {
      "cell_type": "code",
      "execution_count": null,
      "id": "4db3559f",
      "metadata": {
        "height": 30,
        "id": "4db3559f",
        "outputId": "79bf5199-2c3b-4e43-bdb0-aae741bdba15"
      },
      "outputs": [
        {
          "name": "stdout",
          "output_type": "stream",
          "text": [
            "Otto's age in dog years is 7.0\n"
          ]
        }
      ],
      "source": [
        "print(f\"Otto's age in dog years is {49 / 7}\")"
      ]
    },
    {
      "cell_type": "markdown",
      "id": "98904686",
      "metadata": {
        "id": "98904686"
      },
      "source": [
        "Alternatively, now that you have seen how variables work, you can compute Otto's dog age and assign it to the variable `dog_age`."
      ]
    },
    {
      "cell_type": "code",
      "execution_count": null,
      "id": "a9918f72",
      "metadata": {
        "height": 30,
        "id": "a9918f72"
      },
      "outputs": [],
      "source": [
        "dog_age = 49 / 7"
      ]
    },
    {
      "cell_type": "markdown",
      "id": "8db0f9f6",
      "metadata": {
        "id": "8db0f9f6"
      },
      "source": [
        "You can see how this would be an advantage if you consider the following scenario. Let's say you want to display an f-string with Otto's dog age multiple times. Without using variables, you would need to compute his dog age as many times as you refer to it."
      ]
    },
    {
      "cell_type": "code",
      "execution_count": null,
      "id": "2874dcd1",
      "metadata": {
        "height": 64,
        "id": "2874dcd1",
        "outputId": "d8520834-a685-438b-f0c1-264edded1798"
      },
      "outputs": [
        {
          "name": "stdout",
          "output_type": "stream",
          "text": [
            "Otto's dog age is 7.0. So a dog that's about\n",
            "7.0 would be the same age as Otto. Any dog born about 7.0\n",
            "years ago would be in the same stage of life as Otto.\n"
          ]
        }
      ],
      "source": [
        "print(f\"\"\"Otto's dog age is {49/7}. So a dog that's about\n",
        "{49/7} would be the same age as Otto. Any dog born about {49/7}\n",
        "years ago would be in the same stage of life as Otto.\"\"\")"
      ]
    },
    {
      "cell_type": "markdown",
      "id": "335511cc",
      "metadata": {
        "id": "335511cc"
      },
      "source": [
        "If Otto became a year older, you would need to change the values in each of the curly braces to `50/7`. Instead, if you used an f-string with the `dog_age` variable as the one below:"
      ]
    },
    {
      "cell_type": "code",
      "execution_count": null,
      "id": "98bf95bf",
      "metadata": {
        "height": 64,
        "id": "98bf95bf",
        "outputId": "48d70775-668a-4adc-ed08-b1d38e4f4d9b"
      },
      "outputs": [
        {
          "name": "stdout",
          "output_type": "stream",
          "text": [
            "Otto's dog age is 7.0. So a dog that's about\n",
            "7.0 would be the same age as Otto. Any dog born about 7.0\n",
            "years ago would be in the same stage of life as Otto.\n"
          ]
        }
      ],
      "source": [
        "print(f\"\"\"Otto's dog age is {dog_age}. So a dog that's about\n",
        "{dog_age} would be the same age as Otto. Any dog born about {dog_age}\n",
        "years ago would be in the same stage of life as Otto.\"\"\")"
      ]
    },
    {
      "cell_type": "markdown",
      "id": "bc58205f",
      "metadata": {
        "id": "bc58205f"
      },
      "source": [
        "You will only need to update `dog_age` with Otto's new equivalent dog age:"
      ]
    },
    {
      "cell_type": "code",
      "execution_count": null,
      "id": "e7652ae2",
      "metadata": {
        "height": 30,
        "id": "e7652ae2"
      },
      "outputs": [],
      "source": [
        "dog_age = 50/7"
      ]
    },
    {
      "cell_type": "markdown",
      "id": "87549ba8",
      "metadata": {
        "id": "87549ba8"
      },
      "source": [
        "And use the same f-string that you used before without editing. By defining a variable once, you can use it in multiple places, which makes computer programs much more efficient."
      ]
    },
    {
      "cell_type": "code",
      "execution_count": null,
      "id": "9df1557b",
      "metadata": {
        "height": 64,
        "id": "9df1557b",
        "outputId": "f7cb71c2-ba12-45c3-cfc1-8387d7a6bf5e"
      },
      "outputs": [
        {
          "name": "stdout",
          "output_type": "stream",
          "text": [
            "Otto's dog age is 7.142857142857143. So a dog that's about\n",
            "7.142857142857143 would be the same age as Otto. Any dog born about 7.142857142857143\n",
            "years ago would be in the same stage of life as Otto.\n"
          ]
        }
      ],
      "source": [
        "print(f\"\"\"Otto's dog age is {dog_age}. So a dog that's about\n",
        "{dog_age} would be the same age as Otto. Any dog born about {dog_age}\n",
        "years ago would be in the same stage of life as Otto.\"\"\")"
      ]
    },
    {
      "cell_type": "markdown",
      "id": "c2fd294e",
      "metadata": {
        "id": "c2fd294e"
      },
      "source": [
        "As another example, you can replace the name \"Otto\" with the variable `name` in curly braces."
      ]
    },
    {
      "cell_type": "code",
      "execution_count": null,
      "id": "d75fdd48",
      "metadata": {
        "height": 80,
        "id": "d75fdd48",
        "outputId": "72c7955b-96ea-4909-e77a-62b079c77b95"
      },
      "outputs": [
        {
          "name": "stdout",
          "output_type": "stream",
          "text": [
            "Otto's dog age is 7.142857142857143. So a dog that's about\n",
            "7.142857142857143 would be the same age as Otto. Any dog born about 7.142857142857143\n",
            "years ago would be in the same stage of life as Otto.\n"
          ]
        }
      ],
      "source": [
        "print(f\"\"\"{name}'s dog age is {dog_age}. So a dog that's about\n",
        "{dog_age} would be the same age as {name}. Any dog born about {dog_age}\n",
        "years ago would be in the same stage of life as {name}.\"\"\")"
      ]
    },
    {
      "cell_type": "markdown",
      "id": "18ea082a",
      "metadata": {
        "id": "18ea082a"
      },
      "source": [
        "This way, you can change Otto's name to his first and last name:"
      ]
    },
    {
      "cell_type": "code",
      "execution_count": null,
      "id": "1b6d403b",
      "metadata": {
        "height": 30,
        "id": "1b6d403b"
      },
      "outputs": [],
      "source": [
        "name = \"Otto Matic\""
      ]
    },
    {
      "cell_type": "markdown",
      "id": "8ace1ea1",
      "metadata": {
        "id": "8ace1ea1"
      },
      "source": [
        "And use the f-string where the change is reflected in all places where the variable `name` appears."
      ]
    },
    {
      "cell_type": "code",
      "execution_count": null,
      "id": "21d5d631",
      "metadata": {
        "height": 80,
        "id": "21d5d631",
        "outputId": "75728026-1ced-4bf9-e3ef-0763fcc97976"
      },
      "outputs": [
        {
          "name": "stdout",
          "output_type": "stream",
          "text": [
            "Otto Matic's dog age is 7.142857142857143. So a dog that's about\n",
            "7.142857142857143 would be the same age as Otto Matic. Any dog born about 7.142857142857143\n",
            "years ago would be in the same stage of life as Otto Matic.\n"
          ]
        }
      ],
      "source": [
        "print(f\"\"\"{name}'s dog age is {dog_age}. So a dog that's about\n",
        "{dog_age} would be the same age as {name}. Any dog born about {dog_age}\n",
        "years ago would be in the same stage of life as {name}.\"\"\")"
      ]
    },
    {
      "cell_type": "markdown",
      "id": "98ec7de7",
      "metadata": {
        "id": "98ec7de7"
      },
      "source": [
        "## Extra practice\n",
        "\n",
        "Try the exercises below to practice the concepts from this lesson. Read the comments in each cell with the instructions for each exercise.\n",
        "\n",
        "<b>Feel free to use the chatbot if you need help.</b>"
      ]
    },
    {
      "cell_type": "code",
      "execution_count": null,
      "id": "4e522416",
      "metadata": {
        "height": 97,
        "id": "4e522416",
        "outputId": "e67908b0-1414-4d50-e604-d12a694b3187"
      },
      "outputs": [
        {
          "name": "stdout",
          "output_type": "stream",
          "text": [
            "Hello Liberty\n"
          ]
        }
      ],
      "source": [
        "# Create a variable called 'my_name' and assign it the value of your name as a string.\n",
        "# Then print out a greeting using the variable, like \"Hello, Andrew!\"\n",
        "my_name = \"Liberty\"\n",
        "print(f\"Hello {my_name}\")"
      ]
    },
    {
      "cell_type": "code",
      "execution_count": null,
      "id": "8124eec4",
      "metadata": {
        "height": 97,
        "id": "8124eec4",
        "outputId": "33ae5aa8-a5bb-4598-9d9e-d7b66d3ba4be"
      },
      "outputs": [
        {
          "name": "stdout",
          "output_type": "stream",
          "text": [
            "Your favorite number plus 10 is 31\n"
          ]
        }
      ],
      "source": [
        "# Enter your favorite number below and store it in a variable called 'fav_num'.\n",
        "# Print out a message telling you what your favorite number plus 10 is.\n",
        "fav_num = 21\n",
        "print(f\"Your favorite number plus 10 is {fav_num + 10}\")"
      ]
    },
    {
      "cell_type": "code",
      "execution_count": null,
      "id": "1bc3acdd",
      "metadata": {
        "height": 182,
        "id": "1bc3acdd",
        "outputId": "ecf1f144-3b2b-4b1c-c716-8c334543d7b8"
      },
      "outputs": [
        {
          "name": "stdout",
          "output_type": "stream",
          "text": [
            "I have visited 9 countries. I plan to visit 30 more countries, \n",
            "      and when I'm done I will have visited 39 countries.\n"
          ]
        }
      ],
      "source": [
        "# Create two variables, 'countries_visited' and 'countries_to_visit' and assign them the number of\n",
        "# countries you've been to and the number of countries you hope to visit. Then complete the print statement.\n",
        "\n",
        "countries_visited = 9\n",
        "countries_to_visit = 30\n",
        "\n",
        "print(f\"\"\"I have visited {\n",
        "countries_visited} countries. I plan to visit {countries_to_visit} more countries,\n",
        "      and when I'm done I will have visited {countries_visited + countries_to_visit} countries.\"\"\")"
      ]
    }
  ],
  "metadata": {
    "kernelspec": {
      "display_name": "Python 3 (ipykernel)",
      "language": "python",
      "name": "python3"
    },
    "language_info": {
      "codemirror_mode": {
        "name": "ipython",
        "version": 3
      },
      "file_extension": ".py",
      "mimetype": "text/x-python",
      "name": "python",
      "nbconvert_exporter": "python",
      "pygments_lexer": "ipython3",
      "version": "3.9.19"
    },
    "colab": {
      "provenance": [],
      "include_colab_link": true
    }
  },
  "nbformat": 4,
  "nbformat_minor": 5
}