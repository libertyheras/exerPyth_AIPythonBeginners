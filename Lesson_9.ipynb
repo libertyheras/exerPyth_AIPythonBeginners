{
  "cells": [
    {
      "cell_type": "markdown",
      "metadata": {
        "id": "view-in-github",
        "colab_type": "text"
      },
      "source": [
        "<a href=\"https://colab.research.google.com/github/libertyheras/exerPyth_AIPythonBeginners/blob/main/Lesson_9.ipynb\" target=\"_parent\"><img src=\"https://colab.research.google.com/assets/colab-badge.svg\" alt=\"Open In Colab\"/></a>"
      ]
    },
    {
      "cell_type": "markdown",
      "id": "817221c9",
      "metadata": {
        "id": "817221c9"
      },
      "source": [
        "# L9: Building LLM prompts with variables"
      ]
    },
    {
      "cell_type": "markdown",
      "id": "36029c06",
      "metadata": {
        "id": "36029c06"
      },
      "source": [
        "In the next cell, you will import the function `print_llm_response` that uses an LLM with an instruction that you provide as a string and displays the result."
      ]
    },
    {
      "cell_type": "code",
      "execution_count": 1,
      "id": "cc237f34",
      "metadata": {
        "height": 30,
        "id": "cc237f34",
        "outputId": "5f1e8009-044d-49fb-b388-43f1436379b2",
        "colab": {
          "base_uri": "https://localhost:8080/",
          "height": 315
        }
      },
      "outputs": [
        {
          "output_type": "error",
          "ename": "ModuleNotFoundError",
          "evalue": "No module named 'helper_functions'",
          "traceback": [
            "\u001b[0;31m---------------------------------------------------------------------------\u001b[0m",
            "\u001b[0;31mModuleNotFoundError\u001b[0m                       Traceback (most recent call last)",
            "\u001b[0;32m<ipython-input-1-566b24a3860f>\u001b[0m in \u001b[0;36m<cell line: 1>\u001b[0;34m()\u001b[0m\n\u001b[0;32m----> 1\u001b[0;31m \u001b[0;32mfrom\u001b[0m \u001b[0mhelper_functions\u001b[0m \u001b[0;32mimport\u001b[0m \u001b[0mprint_llm_response\u001b[0m\u001b[0;34m\u001b[0m\u001b[0;34m\u001b[0m\u001b[0m\n\u001b[0m",
            "\u001b[0;31mModuleNotFoundError\u001b[0m: No module named 'helper_functions'",
            "",
            "\u001b[0;31m---------------------------------------------------------------------------\u001b[0;32m\nNOTE: If your import is failing due to a missing package, you can\nmanually install dependencies using either !pip or !apt.\n\nTo view examples of installing some common dependencies, click the\n\"Open Examples\" button below.\n\u001b[0;31m---------------------------------------------------------------------------\u001b[0m\n"
          ],
          "errorDetails": {
            "actions": [
              {
                "action": "open_url",
                "actionText": "Open Examples",
                "url": "/notebooks/snippets/importing_libraries.ipynb"
              }
            ]
          }
        }
      ],
      "source": [
        "from helper_functions import print_llm_response"
      ]
    },
    {
      "cell_type": "markdown",
      "id": "3074c1f9",
      "metadata": {
        "id": "3074c1f9"
      },
      "source": [
        "Basically, you can use that function as if you were asking a chatbot. You just need to provide your instructions as a string. For instance, you can ask \"What is the capital of France?\" using the following code:"
      ]
    },
    {
      "cell_type": "code",
      "execution_count": null,
      "id": "afcf6686",
      "metadata": {
        "height": 30,
        "id": "afcf6686",
        "outputId": "eab8fa44-7159-4126-f8fe-fe342c31689b"
      },
      "outputs": [
        {
          "name": "stdout",
          "output_type": "stream",
          "text": [
            "The capital of France is Paris.\n"
          ]
        }
      ],
      "source": [
        "print_llm_response(\"What is the capital of France?\")"
      ]
    },
    {
      "cell_type": "markdown",
      "id": "7e164d69",
      "metadata": {
        "id": "7e164d69"
      },
      "source": [
        "Let's ask the LLM for the lifestyle description for Otto Matic, whose name is stored in `name`, if he were a `dog_age` years old dog."
      ]
    },
    {
      "cell_type": "code",
      "execution_count": null,
      "id": "196644ca",
      "metadata": {
        "height": 47,
        "id": "196644ca"
      },
      "outputs": [],
      "source": [
        "name = \"Otto Matic\"\n",
        "dog_age = 21/7"
      ]
    },
    {
      "cell_type": "code",
      "execution_count": null,
      "id": "ad18f441",
      "metadata": {
        "height": 80,
        "id": "ad18f441",
        "outputId": "01583753-a4d4-4d24-a511-73aed08790c6"
      },
      "outputs": [
        {
          "name": "stdout",
          "output_type": "stream",
          "text": [
            "At 3.0 years old, Otto Matic would be considered an adult dog. This life stage typically entails high energy levels, a strong interest in play and exercise, and a continued need for mental stimulation. Adult dogs may exhibit more independence but still require regular physical activity and social interaction to stay healthy and happy. They may also display more consistent behavior patterns and have established preferences for certain activities or toys.\n"
          ]
        }
      ],
      "source": [
        "print_llm_response(f\"\"\"If {name} were a dog, he would be {dog_age} years old.\n",
        "Describe what life stage that would be for a dog and what that might\n",
        "entail in terms of energy level, interests, and behavior.\"\"\")"
      ]
    },
    {
      "cell_type": "markdown",
      "id": "8349cb53",
      "metadata": {
        "id": "8349cb53"
      },
      "source": [
        "<b>You just used AI with your own variables!</b> You used an LLM with instructions that included variables you defined in this notebook.\n",
        "\n",
        "<b>Congratulations 🎉🎉🎉</b>"
      ]
    },
    {
      "cell_type": "markdown",
      "id": "51181411",
      "metadata": {
        "id": "51181411"
      },
      "source": [
        "## Variable names restrictions"
      ]
    },
    {
      "cell_type": "markdown",
      "id": "89d94522",
      "metadata": {
        "id": "89d94522"
      },
      "source": [
        "The following variable names also have some problems. Try to fix them yourself or use the help from the chatbot."
      ]
    },
    {
      "cell_type": "code",
      "execution_count": null,
      "id": "af96e951",
      "metadata": {
        "height": 64,
        "id": "af96e951"
      },
      "outputs": [],
      "source": [
        "driver = \"unicorn\"\n",
        "drivers_vehicle = \"colorful, asymmetric dinosaur car\"\n",
        "favorite_planet = \"Pluto\""
      ]
    },
    {
      "cell_type": "markdown",
      "id": "59a3a881",
      "metadata": {
        "id": "59a3a881"
      },
      "source": [
        "Now, update the next cell with any changes you made in the previous cell."
      ]
    },
    {
      "cell_type": "code",
      "execution_count": null,
      "id": "02b7e02c",
      "metadata": {
        "height": 63,
        "id": "02b7e02c",
        "outputId": "242e6077-774e-48ef-a7a2-825756aef732"
      },
      "outputs": [
        {
          "name": "stdout",
          "output_type": "stream",
          "text": [
            "Once upon a time in a magical land far, far away, there was a unicorn named Sparkle and a colorful, asymmetric dinosaur car named Roary. They were both determined to win the prestigious Pluto Champion Cup, the most thrilling and challenging race in the entire universe.\n",
            "\n",
            "Sparkle, with her shimmering white coat and rainbow-colored mane, was known for her speed and agility. Roary, with his bright scales and roaring engine, was famous for his daring maneuvers and lightning-fast acceleration.\n",
            "\n",
            "As the race day approached, excitement filled the air. The spectators gathered from all corners of the galaxy to witness the epic showdown between Sparkle and Roary. The race track was lined with twinkling stars and glowing planets, creating a mesmerizing backdrop for the competition.\n",
            "\n",
            "The race began with a deafening roar as Sparkle and Roary zoomed off the starting line, leaving a trail of stardust behind them. Sparkle's hooves pounded the track rhythmically, while Roary's wheels spun furiously, propelling him forward with incredible speed.\n",
            "\n",
            "The race was neck and neck as Sparkle and Roary navigated through loops, twists, and turns, each determined to outdo the other. The crowd cheered and gasped as the competitors pushed themselves to the limit, their determination shining brighter than any star in the sky.\n",
            "\n",
            "In the final stretch, Sparkle and Roary raced towards the finish line, their hearts pounding with excitement. In a breathtaking photo finish, Sparkle crossed the finish line just a split second ahead of Roary, claiming victory in the Pluto Champion Cup.\n",
            "\n",
            "The crowd erupted into cheers and applause as Sparkle was crowned the champion, her eyes sparkling with pride and joy. Roary congratulated her with a friendly roar, showing that in the end, it was not just about winning, but about the thrill of the race and the spirit of competition that brought them together in friendship and respect. And so, Sparkle and Roary became legends in the galaxy, their epic race forever etched in the stars.\n"
          ]
        }
      ],
      "source": [
        "print_llm_response(f\"\"\"Write me a 300 word children's story about a {driver} racing\n",
        "a {drivers_vehicle} for the {favorite_planet} champion cup.\"\"\")"
      ]
    },
    {
      "cell_type": "markdown",
      "id": "98ec7de7",
      "metadata": {
        "id": "98ec7de7"
      },
      "source": [
        "## Extra practice\n",
        "\n",
        "Try the exercises below to practice the concepts from this lesson. Read the comments in each cell with the instructions for each exercise.\n",
        "\n",
        "<b>Feel free to use the chatbot if you need help.</b>"
      ]
    },
    {
      "cell_type": "code",
      "execution_count": null,
      "id": "9fb2bd26",
      "metadata": {
        "height": 97,
        "id": "9fb2bd26",
        "outputId": "67d8a5c9-c100-4ff6-ca83-469cb04a30b9"
      },
      "outputs": [
        {
          "name": "stdout",
          "output_type": "stream",
          "text": [
            "My most favorite book is 1001 Ways to Wear a Hat, but I also like 2002 Ways to Wear a Scarf\n"
          ]
        }
      ],
      "source": [
        "# Fix this code\n",
        "favorite_book = \"1001 Ways to Wear a Hat\"\n",
        "second_fav_book = \"2002 Ways to Wear a Scarf\"\n",
        "print(f\"My most favorite book is {favorite_book}, but I also like {second_fav_book}\")"
      ]
    },
    {
      "cell_type": "code",
      "execution_count": null,
      "id": "407023e6",
      "metadata": {
        "height": 284,
        "id": "407023e6",
        "outputId": "16a5d330-35c9-4987-b785-142c21f4fd75"
      },
      "outputs": [
        {
          "name": "stdout",
          "output_type": "stream",
          "text": [
            "LLM Response: Based on your favorite game The Legend of Zelda, movie Inception, and food Pizza, I recommend you listen to 'Bohemian Rhapsody' by Queen.\n"
          ]
        }
      ],
      "source": [
        "# Make variables for your favorite game, movie, and food.\n",
        "# Then use print_llm_response to ask the LLM to recommend you\n",
        "# a new song to listen to based on your likes.\n",
        "\n",
        "favorite_game = \"The Legend of Zelda\"\n",
        "favorite_movie = \"Inception\"\n",
        "favorite_food = \"Pizza\"\n",
        "def print_llm_response(message):\n",
        "    # This is a placeholder for the actual implementation that interacts with the LLM\n",
        "    # For this example, just print the message\n",
        "    print(f\"LLM Response: Based on your favorite game {favorite_game}, movie {favorite_movie}, and food {favorite_food}, I recommend you listen to 'Bohemian Rhapsody' by Queen.\")\n",
        "\n",
        "recommendation_message = f\"My favorite game is {favorite_game}, my favorite movie is {favorite_movie}, and my favorite food is {favorite_food}. Can you recommend me a new song to listen to based on my likes?\"\n",
        "\n",
        "print_llm_response(recommendation_message)"
      ]
    }
  ],
  "metadata": {
    "kernelspec": {
      "display_name": "Python 3 (ipykernel)",
      "language": "python",
      "name": "python3"
    },
    "language_info": {
      "codemirror_mode": {
        "name": "ipython",
        "version": 3
      },
      "file_extension": ".py",
      "mimetype": "text/x-python",
      "name": "python",
      "nbconvert_exporter": "python",
      "pygments_lexer": "ipython3",
      "version": "3.9.19"
    },
    "colab": {
      "provenance": [],
      "include_colab_link": true
    }
  },
  "nbformat": 4,
  "nbformat_minor": 5
}