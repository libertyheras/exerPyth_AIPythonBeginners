{
  "cells": [
    {
      "cell_type": "markdown",
      "metadata": {
        "id": "view-in-github",
        "colab_type": "text"
      },
      "source": [
        "<a href=\"https://colab.research.google.com/github/libertyheras/exerPyth_AIPythonBeginners/blob/main/Lesson_2(2nd).ipynb\" target=\"_parent\"><img src=\"https://colab.research.google.com/assets/colab-badge.svg\" alt=\"Open In Colab\"/></a>"
      ]
    },
    {
      "cell_type": "markdown",
      "id": "4bd8fbd2-de5c-47bd-bcd9-cbbe8cdc3104",
      "metadata": {
        "id": "4bd8fbd2-de5c-47bd-bcd9-cbbe8cdc3104"
      },
      "source": [
        "# Lesson 2 - Repeating tasks with for loops"
      ]
    },
    {
      "cell_type": "markdown",
      "id": "e270cc1f",
      "metadata": {
        "id": "e270cc1f"
      },
      "source": [
        "This lesson will introduce you to a very important concept in programming: the `for` loop. A `for` loop is a special code pattern found in many languages that allows you to repeatedly perform actions on all the items in a list in an automated way. Let's take a look by starting with loading some functions."
      ]
    },
    {
      "cell_type": "code",
      "execution_count": null,
      "id": "41ef33ad-2b5c-40db-a1ab-9f3c689edd55",
      "metadata": {
        "height": 30,
        "id": "41ef33ad-2b5c-40db-a1ab-9f3c689edd55"
      },
      "outputs": [],
      "source": [
        "from helper_functions import print_llm_response, get_llm_response"
      ]
    },
    {
      "cell_type": "markdown",
      "id": "db2a457b",
      "metadata": {
        "id": "db2a457b"
      },
      "source": [
        "## From previous lesson\n",
        "\n",
        "At the end of last lesson you saw this list of tasks"
      ]
    },
    {
      "cell_type": "code",
      "execution_count": null,
      "id": "c2f3989f",
      "metadata": {
        "height": 148,
        "id": "c2f3989f",
        "outputId": "7d06b479-ba7b-4a5b-9420-c0c08478f952"
      },
      "outputs": [
        {
          "name": "stdout",
          "output_type": "stream",
          "text": [
            "[\"Compose a brief email to my boss explaining that I will be late for tomorrow's meeting.\", 'Write a birthday poem for Otto, celebrating his 28th birthday.', \"Write a 300-word review of the movie 'The Arrival'.\"]\n"
          ]
        }
      ],
      "source": [
        "#from previous lesson:\n",
        "list_of_tasks = [\n",
        "    \"Compose a brief email to my boss explaining that I will be late for tomorrow's meeting.\",\n",
        "    \"Write a birthday poem for Otto, celebrating his 28th birthday.\",\n",
        "    \"Write a 300-word review of the movie 'The Arrival'.\"\n",
        "]\n",
        "print(list_of_tasks)"
      ]
    },
    {
      "cell_type": "markdown",
      "id": "e5bae794",
      "metadata": {
        "id": "e5bae794"
      },
      "source": [
        "You passed them one by one to the LLM, repeatedly updated the task variable, then re-executed the function call with this code:"
      ]
    },
    {
      "cell_type": "code",
      "execution_count": null,
      "id": "9f426b72",
      "metadata": {
        "height": 47,
        "id": "9f426b72",
        "outputId": "1f67a320-e29f-476e-ec61-f488dc3a6439"
      },
      "outputs": [
        {
          "name": "stdout",
          "output_type": "stream",
          "text": [
            "____________________________________________________________________________________________________\n",
            "Subject: Running Late for Tomorrow's Meeting\n",
            "\n",
            "Hi [Boss's Name],\n",
            "\n",
            "I wanted to let you know that I will be running a few minutes late for tomorrow's meeting due to an unexpected appointment. I apologize for any inconvenience this may cause and will join the meeting as soon as I can.\n",
            "\n",
            "Thank you for your understanding.\n",
            "\n",
            "Best regards,\n",
            "[Your Name]\n",
            "____________________________________________________________________________________________________\n",
            "\n",
            "\n"
          ]
        }
      ],
      "source": [
        "task = list_of_tasks[0]\n",
        "print_llm_response(task)"
      ]
    },
    {
      "cell_type": "markdown",
      "id": "c46ed944-05e1-4ae0-a238-f172413b1771",
      "metadata": {
        "id": "c46ed944-05e1-4ae0-a238-f172413b1771"
      },
      "source": [
        "If you wanted to complete all the tasks in your list, you would have to re-write the same code multiple times. Alternatively, you can use a `for` loop."
      ]
    },
    {
      "cell_type": "markdown",
      "id": "b40551bc",
      "metadata": {
        "id": "b40551bc"
      },
      "source": [
        "## Iterating through task lists with AI"
      ]
    },
    {
      "cell_type": "markdown",
      "id": "58985454-e28e-49c8-9fe9-3b9057bafd08",
      "metadata": {
        "id": "58985454-e28e-49c8-9fe9-3b9057bafd08"
      },
      "source": [
        "When you run the cell below you will see how the for loop iterates through the elements in `list_of_tasks`."
      ]
    },
    {
      "cell_type": "code",
      "execution_count": null,
      "id": "0c05dc28-4833-46ae-aad1-3607fab9cd67",
      "metadata": {
        "height": 47,
        "id": "0c05dc28-4833-46ae-aad1-3607fab9cd67",
        "outputId": "2472b6ef-0d54-4158-d21d-d167f587393b"
      },
      "outputs": [
        {
          "name": "stdout",
          "output_type": "stream",
          "text": [
            "Compose a brief email to my boss explaining that I will be late for tomorrow's meeting.\n",
            "Write a birthday poem for Otto, celebrating his 28th birthday.\n",
            "Write a 300-word review of the movie 'The Arrival'.\n"
          ]
        }
      ],
      "source": [
        "for task in list_of_tasks:\n",
        "    print(task)"
      ]
    },
    {
      "cell_type": "markdown",
      "id": "e7dedcb5",
      "metadata": {
        "id": "e7dedcb5"
      },
      "source": [
        "Here's the code that automatically passes all items in list to `print_llm_response`"
      ]
    },
    {
      "cell_type": "code",
      "execution_count": null,
      "id": "721136bd",
      "metadata": {
        "height": 47,
        "id": "721136bd",
        "outputId": "77288da1-8222-4bb2-c1b8-3c24f2eab828"
      },
      "outputs": [
        {
          "name": "stdout",
          "output_type": "stream",
          "text": [
            "____________________________________________________________________________________________________\n",
            "Subject: Running Late for Tomorrow's Meeting\n",
            "\n",
            "Hi [Boss's Name],\n",
            "\n",
            "I wanted to let you know that I will be running a few minutes late for tomorrow's meeting due to an unexpected appointment. I apologize for any inconvenience this may cause and will join the meeting as soon as I can.\n",
            "\n",
            "Thank you for your understanding.\n",
            "\n",
            "Best,\n",
            "[Your Name]\n",
            "____________________________________________________________________________________________________\n",
            "\n",
            "\n",
            "____________________________________________________________________________________________________\n",
            "Happy 28th birthday, Otto dear,\n",
            "Another year to hold so near.\n",
            "May joy and laughter fill your day,\n",
            "And blessings come in every way.\n",
            "\n",
            "With each year that passes by,\n",
            "May your dreams reach for the sky.\n",
            "Celebrate this special date,\n",
            "With love, happiness, and fate.\n",
            "\n",
            "Cheers to you, Otto, on this day,\n",
            "May your year be bright in every way.\n",
            "Happy birthday, may it be grand,\n",
            "With memories that forever stand.\n",
            "____________________________________________________________________________________________________\n",
            "\n",
            "\n",
            "____________________________________________________________________________________________________\n",
            "\"The Arrival\" is a captivating science fiction film that follows the story of a linguistics professor, Louise Banks, played by Amy Adams, who is tasked with communicating with extraterrestrial beings that have arrived on Earth. The film explores themes of language, communication, and the complexities of human interaction with beings from another world.\n",
            "\n",
            "Amy Adams delivers a powerful performance as Louise Banks, portraying her character's intelligence, vulnerability, and determination with depth and nuance. The film's cinematography is stunning, with breathtaking visuals that create a sense of wonder and awe as the alien spacecrafts hover ominously over various locations around the world.\n",
            "\n",
            "The screenplay, written by Eric Heisserer, is thought-provoking and intelligent, weaving together elements of science fiction, mystery, and drama to create a compelling narrative that keeps viewers on the edge of their seats. The film's pacing is deliberate and methodical, building tension and suspense as Louise and her team race against time to decipher the aliens' language and intentions.\n",
            "\n",
            "Director Denis Villeneuve masterfully creates a sense of unease and uncertainty throughout the film, using sound design and visual effects to immerse viewers in the otherworldly experience of first contact with extraterrestrial beings. The film's score, composed by Jóhann Jóhannsson, adds to the atmosphere of mystery and intrigue, enhancing the emotional impact of key moments in the story.\n",
            "\n",
            "Overall, \"The Arrival\" is a thought-provoking and visually stunning film that explores complex themes with intelligence and depth. Amy Adams delivers a standout performance, supported by a strong screenplay and masterful direction. Fans of science fiction and thought-provoking cinema will find much to appreciate in this captivating and immersive film.\n",
            "____________________________________________________________________________________________________\n",
            "\n",
            "\n"
          ]
        }
      ],
      "source": [
        "for task in list_of_tasks:\n",
        "    print_llm_response(task)"
      ]
    },
    {
      "cell_type": "markdown",
      "id": "f9a7a927",
      "metadata": {
        "id": "f9a7a927"
      },
      "source": [
        "Let's break this down.\n",
        "\n",
        "The `for task in list` pattern works as follows:\n",
        "\n",
        "- `task` is assigned the first item in the list. In this case, it's the string `\"Compose a brief email to my boss explaining that I will be late for tomorrow's meeting.\"`\n",
        "- The next indented line is called a block and contains an action to carry out on `task`. In this example, the string gets passed to the LLM, and the result appears on the screen.\n",
        "- Then the loop starts again. Now, `task` is assigned the string \"Write a birthday poem for Otto, celebrating his 28th birthday.\" It's the same variable, but with a different value.\n",
        "- `get_llm_response` runs again, and so on.\n",
        "\n",
        "Be sure to call out the `:` at the end of the line. Indentation is crucial; if it’s not correct, you'll get an error."
      ]
    },
    {
      "cell_type": "code",
      "execution_count": null,
      "id": "8516a3dc",
      "metadata": {
        "height": 47,
        "id": "8516a3dc",
        "outputId": "8a248b03-e721-4e39-fb8b-7ed8a1cfc67a"
      },
      "outputs": [
        {
          "name": "stdout",
          "output_type": "stream",
          "text": [
            "____________________________________________________________________________________________________\n",
            "Subject: Running Late for Tomorrow's Meeting\n",
            "\n",
            "Hi [Boss's Name],\n",
            "\n",
            "I wanted to let you know that I will be running a few minutes late for tomorrow's meeting due to an unexpected appointment. I apologize for any inconvenience this may cause and will join the meeting as soon as I can.\n",
            "\n",
            "Thank you for your understanding.\n",
            "\n",
            "Best regards,\n",
            "[Your Name]\n",
            "____________________________________________________________________________________________________\n",
            "\n",
            "\n",
            "____________________________________________________________________________________________________\n",
            "Happy 28th birthday, Otto dear,\n",
            "Another year to hold so near.\n",
            "May joy and laughter fill your day,\n",
            "And blessings come in every way.\n",
            "\n",
            "With each year that passes by,\n",
            "May your dreams reach for the sky.\n",
            "Celebrate this special date,\n",
            "And let happiness be your fate.\n",
            "\n",
            "Cheers to you, Otto, on this day,\n",
            "Wishing you the best in every way.\n",
            "Happy birthday, may it be grand,\n",
            "With love and joy at your command.\n",
            "____________________________________________________________________________________________________\n",
            "\n",
            "\n",
            "____________________________________________________________________________________________________\n",
            "\"The Arrival\" is a captivating science fiction film that delves into the complexities of communication and the consequences of human actions. Directed by Denis Villeneuve, the movie follows linguist Louise Banks, played brilliantly by Amy Adams, as she is tasked with deciphering the language of extraterrestrial visitors who have arrived on Earth.\n",
            "\n",
            "The film's slow-burning tension and thought-provoking narrative keep viewers engaged from start to finish. Villeneuve's masterful direction creates a sense of unease and wonder, drawing audiences into the mysterious world of the aliens and the high-stakes diplomatic efforts to understand their intentions.\n",
            "\n",
            "Amy Adams delivers a standout performance as Louise Banks, capturing the character's intelligence, vulnerability, and determination with nuance and depth. Her emotional journey as she grapples with personal loss and the weight of her monumental task adds a poignant layer to the film.\n",
            "\n",
            "The visual effects in \"The Arrival\" are stunning, creating a sense of awe and otherworldliness that enhances the story's sense of wonder and danger. The design of the alien spacecraft and the intricate alien language are particularly impressive, adding to the film's immersive atmosphere.\n",
            "\n",
            "The film's exploration of themes such as communication, time, and the nature of humanity elevates it beyond a typical sci-fi thriller. The thought-provoking plot twists and philosophical questions raised by the narrative linger long after the credits roll, inviting viewers to ponder the nature of existence and the choices we make as individuals and as a species.\n",
            "\n",
            "In conclusion, \"The Arrival\" is a visually stunning and intellectually stimulating film that offers a fresh take on the alien invasion genre. With its strong performances, compelling story, and thought-provoking themes, it is a must-see for fans of science fiction and thoughtful cinema.\n",
            "____________________________________________________________________________________________________\n",
            "\n",
            "\n"
          ]
        }
      ],
      "source": [
        "for task in list_of_tasks:\n",
        "    print_llm_response(task)"
      ]
    },
    {
      "cell_type": "markdown",
      "id": "2d8e58be",
      "metadata": {
        "id": "2d8e58be"
      },
      "source": [
        "<p style=\"background-color:#F5C780; padding:15px\"> 🤖 <b>Use the Chatbot</b>: Explain indentation error and help me fix it in this for loop: <br>\n",
        "for task in list_of_tasks:<br>\n",
        "print_llm_response(task)\n",
        "</p>"
      ]
    },
    {
      "cell_type": "markdown",
      "id": "8fdafdba-1a33-4bbd-9061-6950bd8bc488",
      "metadata": {
        "id": "8fdafdba-1a33-4bbd-9061-6950bd8bc488"
      },
      "source": [
        "## Iteratively updating AI prompts using lists"
      ]
    },
    {
      "cell_type": "markdown",
      "id": "09cf3e07",
      "metadata": {
        "id": "09cf3e07"
      },
      "source": [
        "You can even use lists with for loops to iteratively update more complex prompts with the list items. For instance, let's say that you have a list of ice-cream flavors:"
      ]
    },
    {
      "cell_type": "code",
      "execution_count": null,
      "id": "385f6ec5",
      "metadata": {
        "height": 132,
        "id": "385f6ec5"
      },
      "outputs": [],
      "source": [
        "#ice cream flavor example\n",
        "ice_cream_flavors = [\n",
        "    \"Vanilla\",\n",
        "    \"Chocolate\",\n",
        "    \"Strawberry\",\n",
        "    \"Mint Chocolate Chip\"\n",
        "]"
      ]
    },
    {
      "cell_type": "markdown",
      "id": "bf5219ea",
      "metadata": {
        "id": "bf5219ea"
      },
      "source": [
        "You can use a for loop to iterate through the flavors and create a captivating description for each of them."
      ]
    },
    {
      "cell_type": "code",
      "execution_count": null,
      "id": "d732762f",
      "metadata": {
        "height": 165,
        "id": "d732762f",
        "outputId": "426a0ef0-9c92-461b-e9f5-705f2e9dc774"
      },
      "outputs": [
        {
          "name": "stdout",
          "output_type": "stream",
          "text": [
            "____________________________________________________________________________________________________\n",
            "Indulge in the timeless classic of creamy Vanilla ice cream. Its rich and velvety texture will transport your taste buds to a realm of pure delight. Savor the simplicity of this beloved flavor that never goes out of style.\n",
            "____________________________________________________________________________________________________\n",
            "\n",
            "\n",
            "____________________________________________________________________________________________________\n",
            "Indulge in the rich and velvety decadence of our classic Chocolate ice cream. Each creamy spoonful is a symphony of deep, luscious cocoa flavors that will transport your taste buds to pure bliss. Satisfy your cravings with every luxurious bite of our irresistible Chocolate ice cream.\n",
            "____________________________________________________________________________________________________\n",
            "\n",
            "\n",
            "____________________________________________________________________________________________________\n",
            "Indulge in the sweet and refreshing taste of our Strawberry ice cream. Made with ripe, juicy strawberries, every spoonful is bursting with fruity goodness. Treat yourself to a scoop of summer in every bite!\n",
            "____________________________________________________________________________________________________\n",
            "\n",
            "\n",
            "____________________________________________________________________________________________________\n",
            "Indulge in the refreshing coolness of mint perfectly balanced with rich, decadent chocolate chips. Our Mint Chocolate Chip ice cream is a delightful treat that will tantalize your taste buds with every creamy spoonful.\n",
            "____________________________________________________________________________________________________\n",
            "\n",
            "\n"
          ]
        }
      ],
      "source": [
        "for flavor in ice_cream_flavors:\n",
        "    prompt = f\"\"\"For the ice cream flavor listed below,\n",
        "    provide a captivating description that could be used for promotional purposes.\n",
        "\n",
        "    Flavor: {flavor}\n",
        "\n",
        "    \"\"\"\n",
        "    print_llm_response(prompt)"
      ]
    },
    {
      "cell_type": "markdown",
      "id": "d3f3ead6",
      "metadata": {
        "id": "d3f3ead6"
      },
      "source": [
        "Now that you know how to use lists, you can even save the promortional descriptions to another list using `.append()`:"
      ]
    },
    {
      "cell_type": "code",
      "execution_count": null,
      "id": "db66a442",
      "metadata": {
        "height": 216,
        "id": "db66a442"
      },
      "outputs": [],
      "source": [
        "#saving results to a list\n",
        "promotional_descriptions = []\n",
        "for flavor in ice_cream_flavors:\n",
        "    prompt = f\"\"\"For the ice cream flavor listed below,\n",
        "    provide a captivating description that could be used for promotional purposes.\n",
        "\n",
        "    Flavor: {flavor}\n",
        "\n",
        "    \"\"\"\n",
        "    description = get_llm_response(prompt)\n",
        "    promotional_descriptions.append(description)"
      ]
    },
    {
      "cell_type": "markdown",
      "id": "ebdbcfa5",
      "metadata": {
        "id": "ebdbcfa5"
      },
      "source": [
        "After you run that code, you should be able to access the promotional descriptions for each of your ice-cream flavors."
      ]
    },
    {
      "cell_type": "code",
      "execution_count": null,
      "id": "cad94172",
      "metadata": {
        "height": 30,
        "id": "cad94172",
        "outputId": "ae4e58f0-e359-4413-db79-a86899edcbc6"
      },
      "outputs": [
        {
          "name": "stdout",
          "output_type": "stream",
          "text": [
            "['Indulge in the timeless classic of creamy Vanilla ice cream. Its rich and velvety texture will transport your taste buds to a realm of pure delight. Experience the pure essence of vanilla in every luscious spoonful.', 'Indulge in the rich and velvety decadence of our classic Chocolate ice cream. Each creamy spoonful is a luxurious treat for your taste buds, delivering a blissful symphony of deep cocoa flavors that will satisfy your sweet cravings. Dive into a world of pure chocolate bliss with every scoop.', 'Indulge in the sweet and refreshing taste of our Strawberry ice cream. Made with ripe, juicy strawberries, every spoonful is bursting with fruity goodness. Treat yourself to a scoop of summer in every bite!', 'Indulge in the refreshing coolness of mint perfectly balanced with rich, decadent chocolate chips. Our Mint Chocolate Chip ice cream is a delightful treat that will tantalize your taste buds with every creamy spoonful. Treat yourself to a classic favorite that never fails to satisfy your cravings.']\n"
          ]
        }
      ],
      "source": [
        "print(promotional_descriptions)"
      ]
    },
    {
      "cell_type": "markdown",
      "id": "7135f13d-0f36-4de4-9365-bdadb8e6d611",
      "metadata": {
        "id": "7135f13d-0f36-4de4-9365-bdadb8e6d611"
      },
      "source": [
        "## Extra practice"
      ]
    },
    {
      "cell_type": "markdown",
      "id": "c01cc56d-92c7-4632-8cf9-aef3f9f9e3c7",
      "metadata": {
        "id": "c01cc56d-92c7-4632-8cf9-aef3f9f9e3c7"
      },
      "source": [
        "Please go through the exercises in the cells below if you want some extra practice for the topics you covered in this lesson."
      ]
    },
    {
      "cell_type": "code",
      "execution_count": null,
      "id": "f5a19e85-cd80-4e02-a5e1-762284bd27b6",
      "metadata": {
        "height": 250,
        "id": "f5a19e85-cd80-4e02-a5e1-762284bd27b6",
        "outputId": "ec4ded91-4936-48c5-9f80-f609f63457fc"
      },
      "outputs": [
        {
          "name": "stdout",
          "output_type": "stream",
          "text": [
            "For the ice cream flavor listed below, translate it to Spanish: \n",
            "Chocolate\n",
            "For the ice cream flavor listed below, translate it to Spanish: \n",
            "Mint Chocolate Chip\n"
          ]
        }
      ],
      "source": [
        "# Fix the following code.\n",
        "# It should print the flavors in\n",
        "# ice_cream_flavors one by one.\n",
        "\n",
        "ice_cream_flavors = [\"Chocolate\", \"Mint Chocolate Chip\"]\n",
        "\n",
        "### EDIT THE FOLLOWING CODE ###\n",
        "\n",
        "for flavor in ice_cream_flavors:\n",
        "    prompt = f\"\"\"For the ice cream flavor listed below, translate it to Spanish:\n",
        "{flavor}\"\"\"\n",
        "    print(prompt)\n",
        "### --------------- ###"
      ]
    },
    {
      "cell_type": "code",
      "execution_count": null,
      "id": "7b7480c4-ae67-42bd-8cac-189f1f087053",
      "metadata": {
        "height": 199,
        "id": "7b7480c4-ae67-42bd-8cac-189f1f087053",
        "outputId": "25d598ef-4f8e-4790-8862-65cebbc8fbd5"
      },
      "outputs": [
        {
          "name": "stdout",
          "output_type": "stream",
          "text": [
            "____________________________________________________________________________________________________\n",
            "Vanilla in Spanish is \"Vainilla.\"\n",
            "____________________________________________________________________________________________________\n",
            "\n",
            "\n",
            "____________________________________________________________________________________________________\n",
            "Fresa\n",
            "____________________________________________________________________________________________________\n",
            "\n",
            "\n"
          ]
        }
      ],
      "source": [
        "# Translate the flavors in ice_cream_flavors to Spanish\n",
        "ice_cream_flavors = [\"Vanilla\", \"Strawberry\"]\n",
        "\n",
        "for flavor in ice_cream_flavors:\n",
        "    ### EDIT THE FOLLOWING CODE ###\n",
        "    #Hint: you only need to add one or two sentences to the prompt\n",
        "    prompt = f\"\"\"For the ice cream flavor listed below, translate it to Spanish:\n",
        "    {flavor}\"\"\"\n",
        "    ### --------------- ###\n",
        "    print_llm_response(prompt)"
      ]
    },
    {
      "cell_type": "code",
      "execution_count": null,
      "id": "6394bb74-a839-4732-8dbf-1b96bd8e97f9",
      "metadata": {
        "height": 267,
        "id": "6394bb74-a839-4732-8dbf-1b96bd8e97f9"
      },
      "outputs": [],
      "source": [
        "# Write code to get a list with\n",
        "# words without typos\n",
        "\n",
        "words_with_typos = [\"Aple\", \"Wether\", \"Newpaper\"]\n",
        "words_without_typos = []\n",
        "\n",
        "for word in words_with_typos:\n",
        "    prompt = f\"\"\"Fix the spelling mistake in the following word: {word}\n",
        "    Provide only the word.\n",
        "    \"\"\"\n",
        "    correct_word = get_llm_response(prompt)\n",
        "    words_without_typos.append(correct_word)\n",
        "\n",
        "print(words_without_typos)"
      ]
    }
  ],
  "metadata": {
    "kernelspec": {
      "display_name": "Python 3 (ipykernel)",
      "language": "python",
      "name": "python3"
    },
    "language_info": {
      "codemirror_mode": {
        "name": "ipython",
        "version": 3
      },
      "file_extension": ".py",
      "mimetype": "text/x-python",
      "name": "python",
      "nbconvert_exporter": "python",
      "pygments_lexer": "ipython3",
      "version": "3.9.19"
    },
    "colab": {
      "provenance": [],
      "include_colab_link": true
    }
  },
  "nbformat": 4,
  "nbformat_minor": 5
}