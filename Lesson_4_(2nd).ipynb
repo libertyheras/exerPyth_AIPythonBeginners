{
  "cells": [
    {
      "cell_type": "markdown",
      "metadata": {
        "id": "view-in-github",
        "colab_type": "text"
      },
      "source": [
        "<a href=\"https://colab.research.google.com/github/libertyheras/exerPyth_AIPythonBeginners/blob/main/Lesson_4_(2nd).ipynb\" target=\"_parent\"><img src=\"https://colab.research.google.com/assets/colab-badge.svg\" alt=\"Open In Colab\"/></a>"
      ]
    },
    {
      "cell_type": "markdown",
      "id": "f6bf49f7-21f0-47bc-9a3e-7fd325a0b9bf",
      "metadata": {
        "id": "f6bf49f7-21f0-47bc-9a3e-7fd325a0b9bf"
      },
      "source": [
        "# Lesson 4 - Customizing recipes with lists, dictionaries and AI"
      ]
    },
    {
      "cell_type": "markdown",
      "id": "a9f73957",
      "metadata": {
        "id": "a9f73957"
      },
      "source": [
        "In the previous lesson, you went through how to use dictionaries to complete tasks by priority. In this lesson, you will see how you can use dictionaries to update LLM prompts and create food recipies that match your friends preferences, restrictions and cooking experience."
      ]
    },
    {
      "cell_type": "code",
      "execution_count": null,
      "id": "0669df5d-5013-466b-90c8-679364ff80a1",
      "metadata": {
        "height": 30,
        "id": "0669df5d-5013-466b-90c8-679364ff80a1"
      },
      "outputs": [],
      "source": [
        "from helper_functions import print_llm_response, get_llm_response"
      ]
    },
    {
      "cell_type": "markdown",
      "id": "f2ddd461",
      "metadata": {
        "id": "f2ddd461"
      },
      "source": [
        "## Food preference dictionaries\n",
        "\n",
        "Dictionaries are a useful way to organize multiple variables associated with a single entity, like one of your friends. In the next dictionary, you store the food preferences and cooking experience for Tommy."
      ]
    },
    {
      "cell_type": "code",
      "execution_count": null,
      "id": "5ccb6d62",
      "metadata": {
        "height": 115,
        "id": "5ccb6d62"
      },
      "outputs": [],
      "source": [
        "food_preferences_tommy = {\n",
        "        \"dietary_restrictions\": \"vegetarian\",\n",
        "        \"favorite_ingredients\": [\"tofu\", \"olives\"],\n",
        "        \"experience_level\": \"intermediate\",\n",
        "        \"maximum_spice_level\": 6\n",
        "}"
      ]
    },
    {
      "cell_type": "markdown",
      "id": "b27a261d",
      "metadata": {
        "id": "b27a261d"
      },
      "source": [
        "As you can see there, that dictionary has four keys, wich you can access using `\".keys()\"`:"
      ]
    },
    {
      "cell_type": "code",
      "execution_count": null,
      "id": "8849cd3c",
      "metadata": {
        "height": 30,
        "id": "8849cd3c",
        "outputId": "4b8f5547-1cca-4c21-b99f-bf522022ea50"
      },
      "outputs": [
        {
          "name": "stdout",
          "output_type": "stream",
          "text": [
            "dict_keys(['dietary_restrictions', 'favorite_ingredients', 'experience_level', 'maximum_spice_level'])\n"
          ]
        }
      ],
      "source": [
        "print(food_preferences_tommy.keys())"
      ]
    },
    {
      "cell_type": "markdown",
      "id": "d73a2a44",
      "metadata": {
        "id": "d73a2a44"
      },
      "source": [
        "And it has values with different data types: lists, strings and integers."
      ]
    },
    {
      "cell_type": "code",
      "execution_count": null,
      "id": "31f98465",
      "metadata": {
        "height": 30,
        "id": "31f98465",
        "outputId": "4d2a5422-8dc0-4031-9d70-12601808c1a6"
      },
      "outputs": [
        {
          "name": "stdout",
          "output_type": "stream",
          "text": [
            "dict_values(['vegetarian', ['tofu', 'olives'], 'intermediate', 6])\n"
          ]
        }
      ],
      "source": [
        "print(food_preferences_tommy.values())"
      ]
    },
    {
      "cell_type": "markdown",
      "id": "4d786ed3",
      "metadata": {
        "id": "4d786ed3"
      },
      "source": [
        "Let's see how you can use these in a prompt to create recipes that take into account your friends dietary preferences."
      ]
    },
    {
      "cell_type": "markdown",
      "id": "5241f8b9",
      "metadata": {
        "id": "5241f8b9"
      },
      "source": [
        "## Using keys and values within AI prompt"
      ]
    },
    {
      "cell_type": "markdown",
      "id": "6a8f30dc",
      "metadata": {
        "id": "6a8f30dc"
      },
      "source": [
        "So here's a prompt that uses all the information in the dictionary to create a customized recipe"
      ]
    },
    {
      "cell_type": "code",
      "execution_count": null,
      "id": "463a6d2a",
      "metadata": {
        "height": 200,
        "id": "463a6d2a"
      },
      "outputs": [],
      "source": [
        "prompt = f\"\"\"Please suggest a recipe that tries to include\n",
        "the following ingredients:\n",
        "{food_preferences_tommy[\"favorite_ingredients\"]}.\n",
        "The recipe should adhere to the following dietary restrictions:\n",
        "{food_preferences_tommy[\"dietary_restrictions\"]}.\n",
        "The difficulty of the recipe should be:\n",
        "{food_preferences_tommy[\"experience_level\"]}\n",
        "The maximum spice level on a scale of 10 should be:\n",
        "{food_preferences_tommy[\"maximum_spice_level\"]}\n",
        "Provide a two sentence description.\n",
        "\"\"\""
      ]
    },
    {
      "cell_type": "markdown",
      "id": "b24af997",
      "metadata": {
        "id": "b24af997"
      },
      "source": [
        "Run the cell below to print the prompt."
      ]
    },
    {
      "cell_type": "code",
      "execution_count": null,
      "id": "6cceec03-639e-460c-a0d6-b34adb2cd28d",
      "metadata": {
        "height": 30,
        "id": "6cceec03-639e-460c-a0d6-b34adb2cd28d",
        "outputId": "d0a6f095-641c-43a3-d914-2383671ff68c"
      },
      "outputs": [
        {
          "name": "stdout",
          "output_type": "stream",
          "text": [
            "Please suggest a recipe that tries to include \n",
            "the following ingredients: \n",
            "['tofu', 'olives'].\n",
            "The recipe should adhere to the following dietary restrictions:\n",
            "vegetarian.\n",
            "The difficulty of the recipe should be: \n",
            "intermediate\n",
            "The maximum spice level on a scale of 10 should be: \n",
            "6 \n",
            "Provide a two sentence description.\n",
            "\n"
          ]
        }
      ],
      "source": [
        "print(prompt)"
      ]
    },
    {
      "cell_type": "markdown",
      "id": "10b37203",
      "metadata": {
        "id": "10b37203"
      },
      "source": [
        "Now, you can use that prompt with an LLM to suggest a recipe to fit Tommy's preferences:"
      ]
    },
    {
      "cell_type": "code",
      "execution_count": null,
      "id": "14850b74",
      "metadata": {
        "height": 30,
        "id": "14850b74",
        "outputId": "62f1aadb-df8c-4bb1-84f9-3328b7b3b55a"
      },
      "outputs": [
        {
          "name": "stdout",
          "output_type": "stream",
          "text": [
            "____________________________________________________________________________________________________\n",
            "Try making a Mediterranean Tofu and Olive Stir-Fry. Sauté cubed tofu with bell peppers, garlic, and a mix of green and black olives, then season with oregano and a splash of lemon juice for a flavorful, vegetarian dish that balances savory and tangy notes.\n",
            "____________________________________________________________________________________________________\n",
            "\n",
            "\n"
          ]
        }
      ],
      "source": [
        "print_llm_response(prompt)"
      ]
    },
    {
      "cell_type": "markdown",
      "id": "e00bb0c1",
      "metadata": {
        "id": "e00bb0c1"
      },
      "source": [
        "The model followed the instructions. Tommy will be delighted!"
      ]
    },
    {
      "cell_type": "markdown",
      "id": "86e7ba47",
      "metadata": {
        "id": "86e7ba47"
      },
      "source": [
        "## Refining the prompt with available ingredients"
      ]
    },
    {
      "cell_type": "markdown",
      "id": "e813a9b6",
      "metadata": {
        "id": "e813a9b6"
      },
      "source": [
        "You can go a step further and consider the available ingredients at your house. To do so, let's use the following lists:"
      ]
    },
    {
      "cell_type": "code",
      "execution_count": null,
      "id": "72256217-4474-4c48-a87d-36b444c25ea6",
      "metadata": {
        "height": 30,
        "id": "72256217-4474-4c48-a87d-36b444c25ea6"
      },
      "outputs": [],
      "source": [
        "available_spices = [\"cumin\", \"turmeric\", \"oregano\", \"paprika\"]"
      ]
    },
    {
      "cell_type": "markdown",
      "id": "b2f46ab1",
      "metadata": {
        "id": "b2f46ab1"
      },
      "source": [
        "You can add these directly to the prompt so that the LLM take those into consideration"
      ]
    },
    {
      "cell_type": "code",
      "execution_count": null,
      "id": "3b73cd00-bf5e-4865-9a05-07e7f68b1296",
      "metadata": {
        "height": 268,
        "id": "3b73cd00-bf5e-4865-9a05-07e7f68b1296",
        "outputId": "0eaf9df0-7130-4fcb-d4ba-f449feda834e"
      },
      "outputs": [
        {
          "name": "stdout",
          "output_type": "stream",
          "text": [
            "Please suggest a recipe that tries to include \n",
            "the following ingredients: \n",
            "['tofu', 'olives'].\n",
            "The recipe should adhere to the following dietary restrictions:\n",
            "vegetarian.\n",
            "The difficulty of the recipe should be: \n",
            "intermediate\n",
            "The maximum spice level on a scale of 10 should be: \n",
            "6 \n",
            "Provide a two sentence description.\n",
            "\n",
            "The recipe should not include spices outside of this list:\n",
            "Spices: ['cumin', 'turmeric', 'oregano', 'paprika']\n",
            "\n"
          ]
        }
      ],
      "source": [
        "prompt = f\"\"\"Please suggest a recipe that tries to include\n",
        "the following ingredients:\n",
        "{food_preferences_tommy[\"favorite_ingredients\"]}.\n",
        "The recipe should adhere to the following dietary restrictions:\n",
        "{food_preferences_tommy[\"dietary_restrictions\"]}.\n",
        "The difficulty of the recipe should be:\n",
        "{food_preferences_tommy[\"experience_level\"]}\n",
        "The maximum spice level on a scale of 10 should be:\n",
        "{food_preferences_tommy[\"maximum_spice_level\"]}\n",
        "Provide a two sentence description.\n",
        "\n",
        "The recipe should not include spices outside of this list:\n",
        "Spices: {available_spices}\n",
        "\"\"\"\n",
        "print(prompt)"
      ]
    },
    {
      "cell_type": "markdown",
      "id": "4a78b961",
      "metadata": {
        "id": "4a78b961"
      },
      "source": [
        "Now, get the LLM response to that prompt and assign it to a variable:"
      ]
    },
    {
      "cell_type": "code",
      "execution_count": null,
      "id": "bc9f9acf",
      "metadata": {
        "height": 30,
        "id": "bc9f9acf"
      },
      "outputs": [],
      "source": [
        "recipe = get_llm_response(prompt)"
      ]
    },
    {
      "cell_type": "markdown",
      "id": "c87c1079",
      "metadata": {
        "id": "c87c1079"
      },
      "source": [
        "And print the recipe that considers Tommy's restrictions as well as the available ingredients at your house."
      ]
    },
    {
      "cell_type": "code",
      "execution_count": null,
      "id": "d211dac7",
      "metadata": {
        "height": 30,
        "id": "d211dac7",
        "outputId": "06af6465-51c1-4b8b-db1c-e1b8e5f6e818"
      },
      "outputs": [
        {
          "name": "stdout",
          "output_type": "stream",
          "text": [
            "**Mediterranean Tofu and Olive Stir-Fry**\n",
            "\n",
            "Sauté cubed tofu with olives, bell peppers, and onions, then season with cumin, oregano, and paprika for a flavorful dish. Serve it over quinoa or rice for a hearty vegetarian meal that balances savory and tangy notes.\n"
          ]
        }
      ],
      "source": [
        "print(recipe)"
      ]
    },
    {
      "cell_type": "markdown",
      "id": "8dd1eebb",
      "metadata": {
        "id": "8dd1eebb"
      },
      "source": [
        "Try changing the prompt to give you step-by-step instructions and try adding a key-value pair to the dictionary that indicates favorite cuisine."
      ]
    },
    {
      "cell_type": "markdown",
      "id": "d21d016e-e278-47f9-a3da-b031eb6905e9",
      "metadata": {
        "id": "d21d016e-e278-47f9-a3da-b031eb6905e9"
      },
      "source": [
        "## Looking ahead"
      ]
    },
    {
      "cell_type": "markdown",
      "id": "71e7f4a4-efbe-4bbb-a6b4-60305a2e5427",
      "metadata": {
        "id": "71e7f4a4-efbe-4bbb-a6b4-60305a2e5427"
      },
      "source": [
        "Let's take another look at`food_preferences_tommy[\"dietary_restrictions\"]`"
      ]
    },
    {
      "cell_type": "code",
      "execution_count": null,
      "id": "91bb95c7-1940-452d-a120-149bf8db61c7",
      "metadata": {
        "height": 30,
        "id": "91bb95c7-1940-452d-a120-149bf8db61c7",
        "outputId": "f18f374d-e11d-4509-ada8-756f20fe3bf1"
      },
      "outputs": [
        {
          "name": "stdout",
          "output_type": "stream",
          "text": [
            "vegetarian\n"
          ]
        }
      ],
      "source": [
        "print(food_preferences_tommy[\"dietary_restrictions\"])"
      ]
    },
    {
      "cell_type": "markdown",
      "id": "b5f5fe5e-feae-4a8a-9e11-9cfb99958df2",
      "metadata": {
        "id": "b5f5fe5e-feae-4a8a-9e11-9cfb99958df2"
      },
      "source": [
        "Here is a different way you could tell Python that Tommy is vegetarian:"
      ]
    },
    {
      "cell_type": "code",
      "execution_count": null,
      "id": "c447a119-a75b-4f83-87e1-81a6f4e34c13",
      "metadata": {
        "height": 30,
        "id": "c447a119-a75b-4f83-87e1-81a6f4e34c13"
      },
      "outputs": [],
      "source": [
        "food_preferences_tommy[\"is_vegetarian\"] = True"
      ]
    },
    {
      "cell_type": "code",
      "execution_count": null,
      "id": "bfea6233-99af-43b8-b26f-6ba0696f34c6",
      "metadata": {
        "height": 30,
        "id": "bfea6233-99af-43b8-b26f-6ba0696f34c6",
        "outputId": "765e5eeb-8592-4e03-cfb8-8b0ec7210c08"
      },
      "outputs": [
        {
          "name": "stdout",
          "output_type": "stream",
          "text": [
            "{'dietary_restrictions': 'vegetarian', 'favorite_ingredients': ['tofu', 'olives'], 'experience_level': 'intermediate', 'maximum_spice_level': 6, 'is_vegetarian': True}\n"
          ]
        }
      ],
      "source": [
        "print(food_preferences_tommy)"
      ]
    },
    {
      "cell_type": "markdown",
      "id": "3e43d1db-4ce2-4444-9c47-d0ae02370976",
      "metadata": {
        "id": "3e43d1db-4ce2-4444-9c47-d0ae02370976"
      },
      "source": [
        "Go to next video to see what `True` and `False` are and how they work in Python"
      ]
    },
    {
      "cell_type": "markdown",
      "id": "cc7e65ef-1983-43d0-93b5-ce29a2c9f387",
      "metadata": {
        "id": "cc7e65ef-1983-43d0-93b5-ce29a2c9f387"
      },
      "source": [
        "## Extra practice"
      ]
    },
    {
      "cell_type": "markdown",
      "id": "7389bce5-8c0d-41cf-b347-01c741078ef0",
      "metadata": {
        "id": "7389bce5-8c0d-41cf-b347-01c741078ef0"
      },
      "source": [
        "Please go through the exercises in the cells below if you want some extra practice for the topics you covered in this lesson."
      ]
    },
    {
      "cell_type": "code",
      "execution_count": null,
      "id": "83969e6c-e89b-4061-8a9b-69764225dccd",
      "metadata": {
        "height": 250,
        "id": "83969e6c-e89b-4061-8a9b-69764225dccd",
        "outputId": "d8f9eaa8-33d6-4422-b56e-11d4db86bd31"
      },
      "outputs": [
        {
          "name": "stdout",
          "output_type": "stream",
          "text": [
            "{'dietary_restrictions': ['gluten-free'], 'favorite_ingredients': ['chicken', 'rice', 'broccoli'], 'experience_level': 'beginner', 'maximum_spice_level': 5}\n"
          ]
        }
      ],
      "source": [
        "# Update the following dictionary\n",
        "# with your own preferences\n",
        "\n",
        "### EDIT THE FOLLOWING CODE ###\n",
        "my_food_preferences = {\n",
        "        \"dietary_restrictions\": [\"gluten-free\"], # List with dietary restrictions\n",
        "        \"favorite_ingredients\": [\"chicken\", \"rice\", \"broccoli\"], # List with top three favorite ingredients\n",
        "        \"experience_level\": \"beginner\", # Experience level\n",
        "        \"maximum_spice_level\": 5 # Spice level in a scale from 1 to 10\n",
        "}\n",
        "### --------------- ###\n",
        "\n",
        "print(my_food_preferences)"
      ]
    },
    {
      "cell_type": "code",
      "execution_count": null,
      "id": "e22eb004-6a9c-4274-9ae3-c9ee106689fb",
      "metadata": {
        "height": 353,
        "id": "e22eb004-6a9c-4274-9ae3-c9ee106689fb",
        "outputId": "fac982e5-b6fb-43a9-972c-9ea69d3b631c"
      },
      "outputs": [
        {
          "name": "stdout",
          "output_type": "stream",
          "text": [
            "____________________________________________________________________________________________________\n",
            "**Mediterranean Tofu and Olive Stir-Fry**\n",
            "\n",
            "**Ingredients:**\n",
            "- 1 block (14 oz) firm tofu, drained and pressed\n",
            "- 1 cup mixed olives (green and black), pitted and sliced\n",
            "- 1 bell pepper (red or yellow), sliced\n",
            "- 1 medium onion, sliced\n",
            "- 2 cloves garlic, minced\n",
            "- 1 tablespoon olive oil\n",
            "- 1 teaspoon dried oregano\n",
            "- 1 teaspoon smoked paprika\n",
            "- 1/2 teaspoon red pepper flakes (adjust for spice level)\n",
            "- Salt and pepper to taste\n",
            "- Fresh parsley, chopped (for garnish)\n",
            "- Cooked quinoa or rice (for serving)\n",
            "\n",
            "**Instructions:**\n",
            "\n",
            "1. **Prepare the Tofu:**\n",
            "   - Cut the pressed tofu into 1-inch cubes.\n",
            "   - In a bowl, toss the tofu cubes with salt, pepper, smoked paprika, and half of the dried oregano. Let it marinate for about 15 minutes.\n",
            "\n",
            "2. **Cook the Tofu:**\n",
            "   - Heat 1 tablespoon of olive oil in a large skillet or wok over medium-high heat.\n",
            "   - Add the marinated tofu cubes and cook for about 5-7 minutes, turning occasionally, until golden brown on all sides. Remove the tofu from the skillet and set aside.\n",
            "\n",
            "3. **Sauté the Vegetables:**\n",
            "   - In the same skillet, add a little more olive oil if needed. Add the sliced onion and bell pepper. Sauté for about 5 minutes until they start to soften.\n",
            "   - Add the minced garlic and red pepper flakes. Cook for an additional 1-2 minutes until fragrant.\n",
            "\n",
            "4. **Combine Ingredients:**\n",
            "   - Return the cooked tofu to the skillet with the sautéed vegetables.\n",
            "   - Add the sliced olives and the remaining dried oregano. Stir well to combine all ingredients.\n",
            "\n",
            "5. **Finish Cooking:**\n",
            "   - Cook for another 3-5 minutes, allowing the flavors to meld. Adjust seasoning with salt and pepper to taste.\n",
            "\n",
            "6. **Serve:**\n",
            "   - Serve the Mediterranean tofu and olive stir-fry over cooked quinoa or rice.\n",
            "   - Garnish with fresh chopped parsley.\n",
            "\n",
            "Enjoy your flavorful and satisfying dish!\n",
            "____________________________________________________________________________________________________\n",
            "\n",
            "\n"
          ]
        }
      ],
      "source": [
        "# Modify the following prompt,\n",
        "# without adding more than two sentences,\n",
        "# so that the provided recipe includes detailed instructions.\n",
        "\n",
        "### EDIT THE FOLLOWING CODE ###\n",
        "# Hint: look at the last sentence in this prompt\n",
        "prompt = f\"\"\"Please suggest a recipe that tries to include\n",
        "the following ingredients:\n",
        "{food_preferences_tommy[\"favorite_ingredients\"]}.\n",
        "The recipe should adhere to the following dietary restrictions:\n",
        "{food_preferences_tommy[\"dietary_restrictions\"]}.\n",
        "The difficulty of the recipe should be:\n",
        "{food_preferences_tommy[\"experience_level\"]}\n",
        "The maximum spice level on a scale of 10 should be:\n",
        "{food_preferences_tommy[\"maximum_spice_level\"]}.\n",
        "Provide detailed instructions for each step.\n",
        "\"\"\"\n",
        "### --------------- ###\n",
        "\n",
        "print_llm_response(prompt)"
      ]
    }
  ],
  "metadata": {
    "kernelspec": {
      "display_name": "Python 3 (ipykernel)",
      "language": "python",
      "name": "python3"
    },
    "language_info": {
      "codemirror_mode": {
        "name": "ipython",
        "version": 3
      },
      "file_extension": ".py",
      "mimetype": "text/x-python",
      "name": "python",
      "nbconvert_exporter": "python",
      "pygments_lexer": "ipython3",
      "version": "3.9.19"
    },
    "colab": {
      "provenance": [],
      "include_colab_link": true
    }
  },
  "nbformat": 4,
  "nbformat_minor": 5
}