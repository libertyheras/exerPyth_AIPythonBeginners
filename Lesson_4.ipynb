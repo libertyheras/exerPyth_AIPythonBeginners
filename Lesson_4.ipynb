{
  "cells": [
    {
      "cell_type": "markdown",
      "metadata": {
        "id": "view-in-github",
        "colab_type": "text"
      },
      "source": [
        "<a href=\"https://colab.research.google.com/github/libertyheras/exerPyth_AIPythonBeginners/blob/main/Lesson_4.ipynb\" target=\"_parent\"><img src=\"https://colab.research.google.com/assets/colab-badge.svg\" alt=\"Open In Colab\"/></a>"
      ]
    },
    {
      "cell_type": "markdown",
      "metadata": {
        "id": "2HU1PJw-JDnV"
      },
      "source": [
        "# Lesson 4: Running your first program\n",
        "\n",
        "Now it's your turn to try running Python code!\n",
        "\n",
        "Hit the play button on the video next to this Jupyter notebook to start the video and follow along as Andrew explains how to work through this lesson."
      ]
    },
    {
      "cell_type": "markdown",
      "metadata": {
        "id": "vqLSgukeJDnY"
      },
      "source": [
        "### 1. Hello, World!\n",
        "\n",
        "Below is the code for the \"Hello, World!\" program that you saw the chatbot write in the previous video.\n",
        "\n",
        "To run the code, click anywhere into the cell (the box with the code inside), and then type `Shift` + `Enter` (`Shift` + `Return` on a Mac) to execute."
      ]
    },
    {
      "cell_type": "code",
      "execution_count": null,
      "metadata": {
        "height": 30,
        "id": "mZ-aVRz2JDnZ",
        "outputId": "ca884879-4867-431e-9a18-0473b91760a4"
      },
      "outputs": [
        {
          "name": "stdout",
          "output_type": "stream",
          "text": [
            "Hello, World!\n"
          ]
        }
      ],
      "source": [
        "print(\"Hello, World!\")"
      ]
    },
    {
      "cell_type": "markdown",
      "metadata": {
        "id": "VFGngXUlJDnb"
      },
      "source": [
        "**Congratulations!** You have just joined the millions of people who have started their computer programming adventure by running this simple code!"
      ]
    },
    {
      "cell_type": "markdown",
      "metadata": {
        "id": "sLzdmljzJDnc"
      },
      "source": [
        "### 2. Hello, you!\n",
        "\n",
        "Let's create python code to say hello to you, instead of the world. Here are the steps to follow along with Andrew in the video:\n",
        "1. Open the chatbot\n",
        "2. Type in this prompt (substituting your name for mine)\n",
        "\n",
        "            Modify the code below to have it say hello to me.\n",
        "            \n",
        "            print(\"Hello, World!\")\n",
        "            \n",
        "            My name is Andrew\n",
        "   \n",
        "4. Paste the output code in the cell below using `Ctrl`+`V` (`Command`+`C` on a Mac)\n",
        "6. Press `Shift + Enter` to submit your prompt\n",
        "\n",
        "Once the chatbot has returned the code to you, you can copy and paste it into the cell below. Only copy the code in the black box - don't copy any conversation text that the chatbot writes."
      ]
    },
    {
      "cell_type": "code",
      "execution_count": null,
      "metadata": {
        "height": 64,
        "id": "OGXO5fdMJDnc",
        "outputId": "dc540a32-8170-42e9-dee0-c67ffaa9c1e6"
      },
      "outputs": [
        {
          "name": "stdout",
          "output_type": "stream",
          "text": [
            "Hello, Liberty!\n"
          ]
        }
      ],
      "source": [
        "# PASTE CODE FROM CHATBOT ON THE NEXT LINE IN THIS CELL\n",
        "print(\"Hello, Liberty!\")\n"
      ]
    },
    {
      "cell_type": "markdown",
      "metadata": {
        "id": "WUikWpQSJDnd"
      },
      "source": [
        "You should see Python print out \"Hello,\" followed by your name above.\n",
        "\n",
        "One other thing to notice here - when you run a code cell, the little square brackets to the left of the cell will change to a number."
      ]
    },
    {
      "cell_type": "markdown",
      "metadata": {
        "id": "nPolKeWaJDne"
      },
      "source": [
        "### 3. Say hello to someone you love!\n",
        "\n",
        "Copy and paste (or just type out directly) the \"Hello, World!\" code in the cell below. Then modify the text between the quotation to say hello to your best friend, or favorite pet, or anyone else you love!"
      ]
    },
    {
      "cell_type": "code",
      "execution_count": null,
      "metadata": {
        "height": 64,
        "id": "Q0JxgbO8JDne",
        "outputId": "aae5f017-cef8-4f07-e366-b5ff63949437"
      },
      "outputs": [
        {
          "name": "stdout",
          "output_type": "stream",
          "text": [
            "Hello, Devon!\n"
          ]
        }
      ],
      "source": [
        "# ADD YOUR CODE ON THE NEXT LINE\n",
        "print(\"Hello, Devon!\")\n"
      ]
    },
    {
      "cell_type": "markdown",
      "metadata": {
        "id": "nhgrEu6OJDnf"
      },
      "source": [
        "### 4. Comments in code\n",
        "You may be wondering what the text is in the cells above that starts with the `#` hash or pound symbol. This is a comment line. It tells Python that it can ignore anything that follows on that line after the `#` symbol. Comments are used to help other humans understand what your code does.\n",
        "\n",
        "Try running the next cell by pressing `Shift`+`Enter` - what do you think will happen?"
      ]
    },
    {
      "cell_type": "code",
      "execution_count": null,
      "metadata": {
        "height": 30,
        "id": "5EDryQipJDng"
      },
      "outputs": [],
      "source": [
        "# THIS IS A COMMENT - PYTHON WILL IGNORE THIS LINE"
      ]
    },
    {
      "cell_type": "markdown",
      "metadata": {
        "id": "XORG7T_PJDng"
      },
      "source": [
        "The cell above runs just like the code you ran before - you saw the `*` appear to the left of the cell, and then change to a number. But this time nothing appeared on the screen.`\n",
        "\n",
        "A comment line is a valid piece of Python code. It tells Python to ignore what follows. Here, Python followed that command exactly, running the code, ignoring the text, and because the code had no output to return to you, it seemed like \"nothing happened.\"\n",
        "\n",
        "Click into the cell below and click `Shift`+`Enter` to run the code - make sure to ask yourself what you think will happen first, and then see if you were right."
      ]
    },
    {
      "cell_type": "code",
      "execution_count": null,
      "metadata": {
        "height": 30,
        "id": "DNjUTlEKJDng"
      },
      "outputs": [],
      "source": [
        "#print(\"This is a print statement!\")"
      ]
    },
    {
      "cell_type": "markdown",
      "metadata": {
        "id": "uqC4PYraJDnh"
      },
      "source": [
        "Now click into the cell again and type a `#` at the start of the line. What do you think this change will result in? Run the cell by pressing `Shift` + `Enter` to check!"
      ]
    },
    {
      "cell_type": "markdown",
      "metadata": {
        "id": "bnR1OwvfJDnh"
      },
      "source": [
        "You can have multiple comment lines in your code, including one after another, and dispersed throughout your code:"
      ]
    },
    {
      "cell_type": "code",
      "execution_count": null,
      "metadata": {
        "height": 115,
        "id": "pMf-tVSZJDnh",
        "outputId": "4c3b4aee-24eb-41f9-ff51-97239f00dd13"
      },
      "outputs": [
        {
          "name": "stdout",
          "output_type": "stream",
          "text": [
            "Hello, Andrew!\n",
            "How is your day going?\n"
          ]
        }
      ],
      "source": [
        "# This is an example of code with multiple\n",
        "# comments, including this one which\n",
        "# spans multiple lines\n",
        "print(\"Hello, Andrew!\")\n",
        "# Follow up with an additional print command\n",
        "print(\"How is your day going?\")"
      ]
    },
    {
      "cell_type": "markdown",
      "metadata": {
        "id": "8w7HQ84RJDnh"
      },
      "source": [
        "### 5. Making mistakes is no big deal!\n",
        "\n",
        "Run the code in the next cell to see an example of how Python responds to code with an error in it."
      ]
    },
    {
      "cell_type": "code",
      "execution_count": null,
      "metadata": {
        "height": 30,
        "id": "97a9SCvcJDnh",
        "outputId": "e52363dd-c625-47e4-fdc2-9fa5f1b3863b"
      },
      "outputs": [
        {
          "ename": "SyntaxError",
          "evalue": "EOL while scanning string literal (3226283439.py, line 1)",
          "output_type": "error",
          "traceback": [
            "\u001b[0;36m  Cell \u001b[0;32mIn[8], line 1\u001b[0;36m\u001b[0m\n\u001b[0;31m    print(\"Hello, Andrew!)\u001b[0m\n\u001b[0m                          ^\u001b[0m\n\u001b[0;31mSyntaxError\u001b[0m\u001b[0;31m:\u001b[0m EOL while scanning string literal\n"
          ]
        }
      ],
      "source": [
        "print(\"Hello, Andrew!)"
      ]
    },
    {
      "cell_type": "markdown",
      "metadata": {
        "id": "GILusta5JDni"
      },
      "source": [
        "You can ask the chatbot to help you fix this code:\n",
        "1. Open the chatbot\n",
        "2. Enter the following prompt:\n",
        "\n",
        "       What is wrong with this code, and how do I fix it?\n",
        "\n",
        "       print(\"Hello, Andrew!)\n",
        "\n",
        "Fix the code in the next cell based on the chatbot's recommendation and run the cell using `Shift`+`Enter` to see if the fix worked!"
      ]
    },
    {
      "cell_type": "code",
      "execution_count": null,
      "metadata": {
        "height": 47,
        "id": "H0HCW3FmJDni",
        "outputId": "6137500b-5339-49fc-8d5b-10ae6efd65ea"
      },
      "outputs": [
        {
          "name": "stdout",
          "output_type": "stream",
          "text": [
            "Hello, Andrew!\n"
          ]
        }
      ],
      "source": [
        "# Edit the code on the next line to correct the error\n",
        "print(\"Hello, Andrew!\")"
      ]
    },
    {
      "cell_type": "markdown",
      "metadata": {
        "id": "vXeCWAi-JDni"
      },
      "source": [
        "### Practice for yourself!\n",
        "\n",
        "You can practice what you've learned in this lesson by trying out the code exercises below. For each one, follow the instructions in the comment line, then write your code on the next line below the comment. Once you are done, run your code by typing `Shift` + `Enter`. You can do this as many times as you like."
      ]
    },
    {
      "cell_type": "code",
      "execution_count": null,
      "metadata": {
        "height": 47,
        "id": "0c6SaOM8JDni",
        "outputId": "202a92ca-9837-43ab-cf0e-718d3cbfdc2f"
      },
      "outputs": [
        {
          "name": "stdout",
          "output_type": "stream",
          "text": [
            "blue\n"
          ]
        }
      ],
      "source": [
        "# Write code that displays your favorite color\n",
        "print(\"blue\")"
      ]
    },
    {
      "cell_type": "code",
      "execution_count": null,
      "metadata": {
        "height": 47,
        "id": "98njw-vpJDni",
        "outputId": "470d7f2d-9bf0-4f37-df48-2c18db23efbd"
      },
      "outputs": [
        {
          "name": "stdout",
          "output_type": "stream",
          "text": [
            "Pretty good\n"
          ]
        }
      ],
      "source": [
        "# Write code that answers the question \"How are you feeling today?\"\n",
        "print(\"Pretty good\")"
      ]
    },
    {
      "cell_type": "code",
      "execution_count": null,
      "metadata": {
        "height": 63,
        "id": "eCaTGBJ7JDnj",
        "outputId": "53acc359-8427-4997-fa20-d58417b219de"
      },
      "outputs": [
        {
          "ename": "SyntaxError",
          "evalue": "invalid syntax (3244064039.py, line 2)",
          "output_type": "error",
          "traceback": [
            "\u001b[0;36m  Cell \u001b[0;32mIn[12], line 2\u001b[0;36m\u001b[0m\n\u001b[0;31m    print(Pretty good)\u001b[0m\n\u001b[0m                 ^\u001b[0m\n\u001b[0;31mSyntaxError\u001b[0m\u001b[0;31m:\u001b[0m invalid syntax\n"
          ]
        }
      ],
      "source": [
        "# Alter your code from the previous cell so that it will cause an error when you run it\n",
        "print(Pretty good)"
      ]
    },
    {
      "cell_type": "code",
      "execution_count": null,
      "metadata": {
        "height": 80,
        "id": "4Diil2PkJDnj",
        "outputId": "fb3ad224-7fcb-492f-ae46-aba8f2345eaf"
      },
      "outputs": [
        {
          "name": "stdout",
          "output_type": "stream",
          "text": [
            "Pretty good\n"
          ]
        }
      ],
      "source": [
        "# Ask an LLM to help you fix the error in the code in the previous cell (or fix yourself) and\n",
        "# then type the corrected code on the next line:\n",
        "print(\"Pretty good\")"
      ]
    }
  ],
  "metadata": {
    "kernelspec": {
      "display_name": "Python 3 (ipykernel)",
      "language": "python",
      "name": "python3"
    },
    "language_info": {
      "codemirror_mode": {
        "name": "ipython",
        "version": 3
      },
      "file_extension": ".py",
      "mimetype": "text/x-python",
      "name": "python",
      "nbconvert_exporter": "python",
      "pygments_lexer": "ipython3",
      "version": "3.9.19"
    },
    "colab": {
      "provenance": [],
      "include_colab_link": true
    }
  },
  "nbformat": 4,
  "nbformat_minor": 0
}